{
 "cells": [
  {
   "cell_type": "code",
   "execution_count": null,
   "id": "cbe626d3",
   "metadata": {},
   "outputs": [],
   "source": [
    "# Introduction to Python Basic Syntax\n",
    "''' abbbb \n",
    "aakkk akkkeie'''"
   ]
  },
  {
   "cell_type": "code",
   "execution_count": 3,
   "id": "c98d1a4d",
   "metadata": {},
   "outputs": [
    {
     "name": "stdout",
     "output_type": "stream",
     "text": [
      "Welcome to Python class\n",
      "Ugrad\n"
     ]
    }
   ],
   "source": [
    "print(\"Welcome to Python class\")\n",
    "print(\"Ugrad\")"
   ]
  },
  {
   "cell_type": "code",
   "execution_count": 8,
   "id": "a2d9dc44",
   "metadata": {},
   "outputs": [],
   "source": [
    "#variable\n",
    "var = 'Mike'\n",
    "Var = 'John'\n",
    "VAR = 'Sally'"
   ]
  },
  {
   "cell_type": "code",
   "execution_count": 9,
   "id": "01d05629",
   "metadata": {},
   "outputs": [
    {
     "name": "stdout",
     "output_type": "stream",
     "text": [
      "Mike\n",
      "John\n",
      "Sally\n"
     ]
    }
   ],
   "source": [
    "print(var)\n",
    "print(Var)     \n",
    "print(VAR)"
   ]
  },
  {
   "cell_type": "code",
   "execution_count": 10,
   "id": "4343d08e",
   "metadata": {},
   "outputs": [],
   "source": [
    "var = 'Upgrad'"
   ]
  },
  {
   "cell_type": "code",
   "execution_count": 11,
   "id": "b33f37c5",
   "metadata": {},
   "outputs": [
    {
     "name": "stdout",
     "output_type": "stream",
     "text": [
      "Upgrad\n"
     ]
    }
   ],
   "source": [
    "print(var)"
   ]
  },
  {
   "cell_type": "code",
   "execution_count": 12,
   "id": "ff332e1a",
   "metadata": {},
   "outputs": [
    {
     "name": "stdout",
     "output_type": "stream",
     "text": [
      "What is the first number10\n",
      "10\n"
     ]
    }
   ],
   "source": [
    "number = input(\"What is the first number\")\n",
    "print(number)"
   ]
  },
  {
   "cell_type": "code",
   "execution_count": 14,
   "id": "f85b4531",
   "metadata": {},
   "outputs": [
    {
     "name": "stdout",
     "output_type": "stream",
     "text": [
      "Enter your name : Karan\n",
      "Welcome Karan\n"
     ]
    }
   ],
   "source": [
    "name =  input(\"Enter your name : \")\n",
    "print('Welcome', name)"
   ]
  },
  {
   "cell_type": "code",
   "execution_count": 17,
   "id": "23a9343b",
   "metadata": {},
   "outputs": [
    {
     "name": "stdout",
     "output_type": "stream",
     "text": [
      "<class 'str'>\n",
      "<class 'float'>\n",
      "<class 'int'>\n"
     ]
    }
   ],
   "source": [
    "#data type\n",
    "integer_num = 10\n",
    "floating_num = 1.3\n",
    "abc = 'John'\n",
    "boolean = True\n",
    "\n",
    "print(type(abc))\n",
    "print(type(floating_num))\n",
    "print(type(integer_num))"
   ]
  },
  {
   "cell_type": "code",
   "execution_count": 18,
   "id": "1e88d20c",
   "metadata": {},
   "outputs": [
    {
     "name": "stdout",
     "output_type": "stream",
     "text": [
      "10.0\n"
     ]
    }
   ],
   "source": [
    "print(float(integer_num))"
   ]
  },
  {
   "cell_type": "code",
   "execution_count": 19,
   "id": "be6e4de7",
   "metadata": {},
   "outputs": [
    {
     "name": "stdout",
     "output_type": "stream",
     "text": [
      "13\n",
      "-1\n",
      "42\n",
      "0.8571428571428571\n",
      "279936\n"
     ]
    }
   ],
   "source": [
    "# Arithmatic Operations\n",
    "a = 6\n",
    "b = 7\n",
    "print(a+b)\n",
    "print(a-b)\n",
    "print(a*b)\n",
    "print(a/b)\n",
    "print(a**b)"
   ]
  },
  {
   "cell_type": "code",
   "execution_count": 20,
   "id": "0fcac56e",
   "metadata": {},
   "outputs": [
    {
     "name": "stdout",
     "output_type": "stream",
     "text": [
      "11.857142857142858\n"
     ]
    }
   ],
   "source": [
    "# PEDMAS\n",
    "print((4*5)-9+6/7)"
   ]
  },
  {
   "cell_type": "code",
   "execution_count": 21,
   "id": "8eb64a3e",
   "metadata": {},
   "outputs": [
    {
     "data": {
      "text/plain": [
       "35"
      ]
     },
     "execution_count": 21,
     "metadata": {},
     "output_type": "execute_result"
    }
   ],
   "source": [
    "abc = 'We are learning basic python syntax'\n",
    "len(abc)"
   ]
  },
  {
   "cell_type": "code",
   "execution_count": 23,
   "id": "d16aebfc",
   "metadata": {},
   "outputs": [
    {
     "data": {
      "text/plain": [
       "'e'"
      ]
     },
     "execution_count": 23,
     "metadata": {},
     "output_type": "execute_result"
    }
   ],
   "source": [
    "abc[1]"
   ]
  },
  {
   "cell_type": "code",
   "execution_count": 25,
   "id": "b3353387",
   "metadata": {},
   "outputs": [
    {
     "name": "stdout",
     "output_type": "stream",
     "text": [
      "WE ARE LEARNING BASIC PYTHON SYNTAX\n",
      "we are learning basic python syntax\n"
     ]
    }
   ],
   "source": [
    "print(abc.upper())\n",
    "print(abc.lower())"
   ]
  },
  {
   "cell_type": "code",
   "execution_count": 27,
   "id": "ed363a94",
   "metadata": {},
   "outputs": [
    {
     "name": "stdout",
     "output_type": "stream",
     "text": [
      "    Trim Whitespaces   \n",
      "Trim Whitespaces\n"
     ]
    }
   ],
   "source": [
    "spaces = \"    Trim Whitespaces   \"\n",
    "print(spaces)\n",
    "print(spaces.strip())"
   ]
  },
  {
   "cell_type": "code",
   "execution_count": 29,
   "id": "301229bc",
   "metadata": {},
   "outputs": [
    {
     "name": "stdout",
     "output_type": "stream",
     "text": [
      "1\n"
     ]
    }
   ],
   "source": [
    "print(spaces.count('m'))"
   ]
  },
  {
   "cell_type": "code",
   "execution_count": 32,
   "id": "406f0cc2",
   "metadata": {},
   "outputs": [
    {
     "name": "stdout",
     "output_type": "stream",
     "text": [
      "Analysis Data in Python\n"
     ]
    }
   ],
   "source": [
    "A  = 'Data'\n",
    "B = 'Analysis'\n",
    "C =  'Python'\n",
    "\n",
    "print(\"{0} {1} in {2}\".format(B,A,C))"
   ]
  },
  {
   "cell_type": "code",
   "execution_count": 34,
   "id": "a0225374",
   "metadata": {},
   "outputs": [
    {
     "name": "stdout",
     "output_type": "stream",
     "text": [
      "False\n",
      "True\n",
      "False\n"
     ]
    }
   ],
   "source": [
    "#Comparison Operator\n",
    "a = 10\n",
    "b = 10\n",
    "print(a>b) # \"==\",\"!=\",\">\",\"<\",\">=\",\"<=\"\n",
    "print(a==b)\n",
    "print(a!=b)"
   ]
  },
  {
   "cell_type": "code",
   "execution_count": 38,
   "id": "d83f1a17",
   "metadata": {},
   "outputs": [
    {
     "name": "stdout",
     "output_type": "stream",
     "text": [
      "True\n",
      "True\n",
      "False\n"
     ]
    }
   ],
   "source": [
    "# logical operator (and, or, not)\n",
    "\n",
    "x = 20\n",
    "print (x<21 and x<25)\n",
    "print(x>21 or x<25)\n",
    "print(not(x<21 and x<25))\n"
   ]
  },
  {
   "cell_type": "code",
   "execution_count": 40,
   "id": "f5d26d8f",
   "metadata": {},
   "outputs": [
    {
     "name": "stdout",
     "output_type": "stream",
     "text": [
      "100\n"
     ]
    }
   ],
   "source": [
    "# write a python program to find the square of a number 5\n",
    "\n",
    "num =  10\n",
    "sq = num**2\n",
    "print(sq)"
   ]
  },
  {
   "cell_type": "code",
   "execution_count": 42,
   "id": "693fe546",
   "metadata": {},
   "outputs": [
    {
     "name": "stdout",
     "output_type": "stream",
     "text": [
      "Please enter the number: 4\n",
      "64\n"
     ]
    }
   ],
   "source": [
    "# write a program to ask for an input from user and do the cube of that number\n",
    "# input # exponential operator # print\n",
    "num = int(input(\"Please enter the number: \"))\n",
    "cube = num**3\n",
    "print(cube)"
   ]
  },
  {
   "cell_type": "code",
   "execution_count": 43,
   "id": "63617585",
   "metadata": {},
   "outputs": [
    {
     "name": "stdout",
     "output_type": "stream",
     "text": [
      "20.0\n"
     ]
    }
   ],
   "source": [
    "# write a program to find the average of three numbers that is 10,20 and 30\n",
    "a = 10\n",
    "b = 20\n",
    "c = 30\n",
    "avg = (a+b+c)/3\n",
    "print(avg)"
   ]
  },
  {
   "cell_type": "code",
   "execution_count": 44,
   "id": "f02d6a1f",
   "metadata": {},
   "outputs": [
    {
     "name": "stdout",
     "output_type": "stream",
     "text": [
      "Enter amount in INR: 100\n",
      "1.1764705882352942\n"
     ]
    }
   ],
   "source": [
    "# convert the INR to Dollars for the amount entered by the user, 1 dollar  =  INR 85\n",
    "inr = float(input(\"Enter amount in INR: \")) \n",
    "dollar = inr / 85 \n",
    "print(dollar)"
   ]
  },
  {
   "cell_type": "code",
   "execution_count": 49,
   "id": "42dd1a01",
   "metadata": {},
   "outputs": [
    {
     "name": "stdout",
     "output_type": "stream",
     "text": [
      "a and b are equal\n"
     ]
    }
   ],
   "source": [
    "# if-else conditions\n",
    "a = 300\n",
    "b = 300\n",
    "if b>a:\n",
    "    print('b is greater than a')\n",
    "elif a==b:\n",
    "    print('a and b are equal')\n",
    "else:\n",
    "    print('a is greater than b')\n",
    "    "
   ]
  },
  {
   "cell_type": "code",
   "execution_count": 51,
   "id": "b38441c9",
   "metadata": {},
   "outputs": [
    {
     "name": "stdout",
     "output_type": "stream",
     "text": [
      "Enter your test score : 80\n",
      "You earned a distinction\n"
     ]
    }
   ],
   "source": [
    "score = int(input(\"Enter your test score : \"))\n",
    "passing  = 40\n",
    "distinction  = 75\n",
    "\n",
    "if score > distinction:\n",
    "    print(\"You earned a distinction\")\n",
    "    \n",
    "if score >= passing and score < distinction:\n",
    "    print(\"You have passed\")\n",
    "    \n",
    "if score < passing:\n",
    "    print(\"Sorry, you have failed\")"
   ]
  },
  {
   "cell_type": "code",
   "execution_count": 53,
   "id": "30bedb5d",
   "metadata": {},
   "outputs": [
    {
     "name": "stdout",
     "output_type": "stream",
     "text": [
      "First number : 50\n",
      "Second number : 25\n",
      "75\n"
     ]
    }
   ],
   "source": [
    "# accept two integers from the user and return there product\n",
    "# if product of two numbers is greater than 1000, then output should be the sum of two integers rather than the product\n",
    "\n",
    "a = int(input(\"First number : \"))\n",
    "b = int(input(\"Second number : \"))\n",
    "prod = a*b\n",
    "\n",
    "if prod > 1000:\n",
    "    print(a+b)\n",
    "else:\n",
    "    print(prod)\n"
   ]
  },
  {
   "cell_type": "code",
   "execution_count": 55,
   "id": "46927f36",
   "metadata": {},
   "outputs": [
    {
     "name": "stdout",
     "output_type": "stream",
     "text": [
      "Please enter your income: 100000\n",
      "Please enter your loan amount: 50000\n",
      "Eligible for loan\n"
     ]
    }
   ],
   "source": [
    "# write a program to print loan eligibility in case loan applied is greater than twice the income then it should give output of\n",
    "# not eligible for loan other output is eligible for loan\n",
    "\n",
    "income = int(input(\"Please enter your income: \"))\n",
    "loan_amount = int(input(\"Please enter your loan amount: \"))\n",
    "\n",
    "if loan_amount > 2* income:\n",
    "    print(\"You are not eligible for loan\")\n",
    "else:\n",
    "    print(\"Eligible for loan\")"
   ]
  },
  {
   "cell_type": "code",
   "execution_count": null,
   "id": "1d0b918b",
   "metadata": {},
   "outputs": [],
   "source": [
    "# while loops (iterate over specific number of times)\n",
    "# for loops (iterate over ranges, data structures - list, dictionaries)"
   ]
  },
  {
   "cell_type": "code",
   "execution_count": 66,
   "id": "0cbc9b7b",
   "metadata": {},
   "outputs": [
    {
     "name": "stdout",
     "output_type": "stream",
     "text": [
      "1\n",
      "2\n",
      "3\n",
      "4\n",
      "5\n",
      "6\n",
      "7\n",
      "8\n",
      "9\n",
      "10\n",
      "11\n",
      "12\n",
      "13\n",
      "14\n",
      "15\n",
      "16\n",
      "17\n",
      "18\n",
      "19\n",
      "20\n"
     ]
    }
   ],
   "source": [
    "a =  1 # intialization\n",
    "while a<=20:\n",
    "    print(a)\n",
    "    a = a+1 #iteration a+=1"
   ]
  },
  {
   "cell_type": "code",
   "execution_count": 67,
   "id": "33d2e0a3",
   "metadata": {},
   "outputs": [
    {
     "name": "stdout",
     "output_type": "stream",
     "text": [
      "0\n",
      "1\n",
      "2\n",
      "3\n",
      "4\n"
     ]
    }
   ],
   "source": [
    "for num in range(0,5):\n",
    "    print(num)"
   ]
  }
 ],
 "metadata": {
  "kernelspec": {
   "display_name": "Python 3 (ipykernel)",
   "language": "python",
   "name": "python3"
  },
  "language_info": {
   "codemirror_mode": {
    "name": "ipython",
    "version": 3
   },
   "file_extension": ".py",
   "mimetype": "text/x-python",
   "name": "python",
   "nbconvert_exporter": "python",
   "pygments_lexer": "ipython3",
   "version": "3.10.9"
  }
 },
 "nbformat": 4,
 "nbformat_minor": 5
}
