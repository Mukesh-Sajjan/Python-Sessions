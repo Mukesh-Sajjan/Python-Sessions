{
 "cells": [
  {
   "cell_type": "code",
   "execution_count": null,
   "id": "aa62635b",
   "metadata": {},
   "outputs": [],
   "source": [
    "# Data Structures - Tuples, Lists, Dictionaries, Sets"
   ]
  },
  {
   "cell_type": "code",
   "execution_count": null,
   "id": "002538c1",
   "metadata": {},
   "outputs": [],
   "source": [
    "#Tuples\n",
    "# Ordered sequence of mixed types\n",
    "# Add values as comma-seperated elements within paranthesis"
   ]
  },
  {
   "cell_type": "code",
   "execution_count": 21,
   "id": "a76d5a52",
   "metadata": {},
   "outputs": [
    {
     "ename": "TypeError",
     "evalue": "'<' not supported between instances of 'int' and 'str'",
     "output_type": "error",
     "traceback": [
      "\u001b[1;31m---------------------------------------------------------------------------\u001b[0m",
      "\u001b[1;31mTypeError\u001b[0m                                 Traceback (most recent call last)",
      "Cell \u001b[1;32mIn[21], line 2\u001b[0m\n\u001b[0;32m      1\u001b[0m t \u001b[38;5;241m=\u001b[39m (\u001b[38;5;124m'\u001b[39m\u001b[38;5;124mUpgrad\u001b[39m\u001b[38;5;124m'\u001b[39m,\u001b[38;5;241m12\u001b[39m,\u001b[38;5;241m4.5\u001b[39m,\u001b[38;5;241m10\u001b[39m)\n\u001b[1;32m----> 2\u001b[0m \u001b[38;5;28;43msorted\u001b[39;49m\u001b[43m(\u001b[49m\u001b[43mt\u001b[49m\u001b[43m)\u001b[49m\n",
      "\u001b[1;31mTypeError\u001b[0m: '<' not supported between instances of 'int' and 'str'"
     ]
    }
   ],
   "source": [
    "t = ('Upgrad',12,4.5,10)\n",
    "sorted(t)"
   ]
  },
  {
   "cell_type": "code",
   "execution_count": 2,
   "id": "fa299bdb",
   "metadata": {},
   "outputs": [
    {
     "data": {
      "text/plain": [
       "tuple"
      ]
     },
     "execution_count": 2,
     "metadata": {},
     "output_type": "execute_result"
    }
   ],
   "source": [
    "type(t)"
   ]
  },
  {
   "cell_type": "code",
   "execution_count": 5,
   "id": "6d514b5b",
   "metadata": {},
   "outputs": [
    {
     "data": {
      "text/plain": [
       "10"
      ]
     },
     "execution_count": 5,
     "metadata": {},
     "output_type": "execute_result"
    }
   ],
   "source": [
    "t[3]"
   ]
  },
  {
   "cell_type": "code",
   "execution_count": 8,
   "id": "d4fe3041",
   "metadata": {},
   "outputs": [
    {
     "data": {
      "text/plain": [
       "'Upgrad'"
      ]
     },
     "execution_count": 8,
     "metadata": {},
     "output_type": "execute_result"
    }
   ],
   "source": [
    "t[-4]"
   ]
  },
  {
   "cell_type": "code",
   "execution_count": 12,
   "id": "b2511964",
   "metadata": {},
   "outputs": [
    {
     "data": {
      "text/plain": [
       "(4.5, 10)"
      ]
     },
     "execution_count": 12,
     "metadata": {},
     "output_type": "execute_result"
    }
   ],
   "source": [
    "#slicing\n",
    "t[2:]"
   ]
  },
  {
   "cell_type": "code",
   "execution_count": 13,
   "id": "be7d3446",
   "metadata": {},
   "outputs": [
    {
     "data": {
      "text/plain": [
       "21"
      ]
     },
     "execution_count": 13,
     "metadata": {},
     "output_type": "execute_result"
    }
   ],
   "source": [
    "t = (2,4,5,7,3)\n",
    "sum(t)"
   ]
  },
  {
   "cell_type": "code",
   "execution_count": 14,
   "id": "039fac2d",
   "metadata": {},
   "outputs": [
    {
     "data": {
      "text/plain": [
       "2"
      ]
     },
     "execution_count": 14,
     "metadata": {},
     "output_type": "execute_result"
    }
   ],
   "source": [
    "min(t)"
   ]
  },
  {
   "cell_type": "code",
   "execution_count": 15,
   "id": "091c4760",
   "metadata": {},
   "outputs": [
    {
     "data": {
      "text/plain": [
       "7"
      ]
     },
     "execution_count": 15,
     "metadata": {},
     "output_type": "execute_result"
    }
   ],
   "source": [
    "max(t)"
   ]
  },
  {
   "cell_type": "code",
   "execution_count": 16,
   "id": "9f986255",
   "metadata": {},
   "outputs": [
    {
     "ename": "TypeError",
     "evalue": "'tuple' object does not support item assignment",
     "output_type": "error",
     "traceback": [
      "\u001b[1;31m---------------------------------------------------------------------------\u001b[0m",
      "\u001b[1;31mTypeError\u001b[0m                                 Traceback (most recent call last)",
      "Cell \u001b[1;32mIn[16], line 1\u001b[0m\n\u001b[1;32m----> 1\u001b[0m t[\u001b[38;5;241m3\u001b[39m] \u001b[38;5;241m=\u001b[39m \u001b[38;5;241m10\u001b[39m\n",
      "\u001b[1;31mTypeError\u001b[0m: 'tuple' object does not support item assignment"
     ]
    }
   ],
   "source": [
    "t[3] = 10"
   ]
  },
  {
   "cell_type": "code",
   "execution_count": 19,
   "id": "100c7aef",
   "metadata": {},
   "outputs": [
    {
     "data": {
      "text/plain": [
       "(2, 3, 4, 5, 7)"
      ]
     },
     "execution_count": 19,
     "metadata": {},
     "output_type": "execute_result"
    }
   ],
   "source": [
    "x = sorted(t)\n",
    "tuple(x)"
   ]
  },
  {
   "cell_type": "code",
   "execution_count": null,
   "id": "0225ba4d",
   "metadata": {},
   "outputs": [],
   "source": [
    "# list \n",
    "# Mixed data types\n",
    "# comma separated values within square brackets"
   ]
  },
  {
   "cell_type": "code",
   "execution_count": 22,
   "id": "ea20e1af",
   "metadata": {},
   "outputs": [
    {
     "name": "stdout",
     "output_type": "stream",
     "text": [
      "['USA', 23, 6, 'New York']\n"
     ]
    }
   ],
   "source": [
    "l  = ['USA',23,6,'New York']\n",
    "print(l)"
   ]
  },
  {
   "cell_type": "code",
   "execution_count": 23,
   "id": "f5ffade6",
   "metadata": {},
   "outputs": [
    {
     "data": {
      "text/plain": [
       "list"
      ]
     },
     "execution_count": 23,
     "metadata": {},
     "output_type": "execute_result"
    }
   ],
   "source": [
    "type(l)"
   ]
  },
  {
   "cell_type": "code",
   "execution_count": 25,
   "id": "feed848a",
   "metadata": {},
   "outputs": [
    {
     "name": "stdout",
     "output_type": "stream",
     "text": [
      "[9, 24, 32, 65]\n"
     ]
    }
   ],
   "source": [
    "l = [32,24,65,9]\n",
    "l.sort()\n",
    "print(l)"
   ]
  },
  {
   "cell_type": "code",
   "execution_count": 26,
   "id": "79903122",
   "metadata": {},
   "outputs": [
    {
     "name": "stdout",
     "output_type": "stream",
     "text": [
      "[65, 32, 24, 9]\n"
     ]
    }
   ],
   "source": [
    "l.sort(reverse = True)\n",
    "print(l)"
   ]
  },
  {
   "cell_type": "code",
   "execution_count": 27,
   "id": "b29c547b",
   "metadata": {},
   "outputs": [
    {
     "data": {
      "text/plain": [
       "24"
      ]
     },
     "execution_count": 27,
     "metadata": {},
     "output_type": "execute_result"
    }
   ],
   "source": [
    "l[2]"
   ]
  },
  {
   "cell_type": "code",
   "execution_count": 28,
   "id": "b8972b82",
   "metadata": {},
   "outputs": [
    {
     "name": "stdout",
     "output_type": "stream",
     "text": [
      "['apple', 'banana', 'kiwi', 'pineapple']\n"
     ]
    }
   ],
   "source": [
    "a  = ['apple','banana','kiwi','pineapple']\n",
    "print(a)"
   ]
  },
  {
   "cell_type": "code",
   "execution_count": 30,
   "id": "8194a983",
   "metadata": {},
   "outputs": [
    {
     "name": "stdout",
     "output_type": "stream",
     "text": [
      "['apple', 'strawberry', 'strawberry', 'banana', 'kiwi', 'pineapple']\n"
     ]
    }
   ],
   "source": [
    "a.insert(1,'strawberry')\n",
    "print(a)"
   ]
  },
  {
   "cell_type": "code",
   "execution_count": 31,
   "id": "5a0a70d1",
   "metadata": {},
   "outputs": [
    {
     "data": {
      "text/plain": [
       "'strawberry'"
      ]
     },
     "execution_count": 31,
     "metadata": {},
     "output_type": "execute_result"
    }
   ],
   "source": [
    "a.pop(1)"
   ]
  },
  {
   "cell_type": "code",
   "execution_count": 32,
   "id": "8e620623",
   "metadata": {},
   "outputs": [],
   "source": [
    "# Dictionary\n",
    "a =  {'Emp Names': 'Karan',\n",
    "     'Emp ID': 1234,\n",
    "     'Emp Class': 'Data Science',\n",
    "     'Emp Marks': 65}"
   ]
  },
  {
   "cell_type": "code",
   "execution_count": 33,
   "id": "cc996ceb",
   "metadata": {},
   "outputs": [
    {
     "data": {
      "text/plain": [
       "dict"
      ]
     },
     "execution_count": 33,
     "metadata": {},
     "output_type": "execute_result"
    }
   ],
   "source": [
    "type(a)"
   ]
  },
  {
   "cell_type": "code",
   "execution_count": 34,
   "id": "68f04f37",
   "metadata": {},
   "outputs": [
    {
     "data": {
      "text/plain": [
       "dict_keys(['Emp Names', 'Emp ID', 'Emp Class', 'Emp Marks'])"
      ]
     },
     "execution_count": 34,
     "metadata": {},
     "output_type": "execute_result"
    }
   ],
   "source": [
    "a.keys()"
   ]
  },
  {
   "cell_type": "code",
   "execution_count": 35,
   "id": "c8b38e9a",
   "metadata": {},
   "outputs": [
    {
     "data": {
      "text/plain": [
       "dict_values(['Karan', 1234, 'Data Science', 65])"
      ]
     },
     "execution_count": 35,
     "metadata": {},
     "output_type": "execute_result"
    }
   ],
   "source": [
    "a.values()"
   ]
  },
  {
   "cell_type": "code",
   "execution_count": 36,
   "id": "46eeb591",
   "metadata": {},
   "outputs": [
    {
     "data": {
      "text/plain": [
       "dict_items([('Emp Names', 'Karan'), ('Emp ID', 1234), ('Emp Class', 'Data Science'), ('Emp Marks', 65)])"
      ]
     },
     "execution_count": 36,
     "metadata": {},
     "output_type": "execute_result"
    }
   ],
   "source": [
    "a.items()"
   ]
  },
  {
   "cell_type": "code",
   "execution_count": 37,
   "id": "18bdd9bc",
   "metadata": {},
   "outputs": [
    {
     "name": "stdout",
     "output_type": "stream",
     "text": [
      "{'Emp Names': 'Karan', 'Emp ID': 5678, 'Emp Class': 'Data Science', 'Emp Marks': 65}\n"
     ]
    }
   ],
   "source": [
    "a.update({'Emp ID': 5678})\n",
    "print(a)"
   ]
  },
  {
   "cell_type": "code",
   "execution_count": 38,
   "id": "16ecb34a",
   "metadata": {},
   "outputs": [
    {
     "name": "stdout",
     "output_type": "stream",
     "text": [
      "{1, 2, 3, 4, 5}\n"
     ]
    }
   ],
   "source": [
    "# Sets\n",
    "num = [1,4,2,4,3,2,5,5]\n",
    "set_num = set(num)\n",
    "print(set_num)"
   ]
  },
  {
   "cell_type": "code",
   "execution_count": 39,
   "id": "65d8dfd0",
   "metadata": {},
   "outputs": [
    {
     "data": {
      "text/plain": [
       "5"
      ]
     },
     "execution_count": 39,
     "metadata": {},
     "output_type": "execute_result"
    }
   ],
   "source": [
    "len(set_num)"
   ]
  },
  {
   "cell_type": "code",
   "execution_count": 40,
   "id": "06848394",
   "metadata": {},
   "outputs": [],
   "source": [
    "#Set operations\n",
    "A = {0,2,4,6,8}\n",
    "B = {1,2,3,4,5}"
   ]
  },
  {
   "cell_type": "code",
   "execution_count": 41,
   "id": "39271bc6",
   "metadata": {},
   "outputs": [
    {
     "name": "stdout",
     "output_type": "stream",
     "text": [
      "{0, 1, 2, 3, 4, 5, 6, 8}\n",
      "{0, 1, 2, 3, 4, 5, 6, 8}\n"
     ]
    }
   ],
   "source": [
    "# UNION\n",
    "print(A | B)\n",
    "print(A.union(B))"
   ]
  },
  {
   "cell_type": "code",
   "execution_count": 42,
   "id": "f8d421ce",
   "metadata": {},
   "outputs": [
    {
     "name": "stdout",
     "output_type": "stream",
     "text": [
      "{2, 4}\n",
      "{2, 4}\n"
     ]
    }
   ],
   "source": [
    "#Intersection\n",
    "print(A & B)\n",
    "print(A.intersection(B))"
   ]
  },
  {
   "cell_type": "code",
   "execution_count": 43,
   "id": "9382bc25",
   "metadata": {},
   "outputs": [
    {
     "name": "stdout",
     "output_type": "stream",
     "text": [
      "{0, 8, 6}\n",
      "{0, 8, 6}\n"
     ]
    }
   ],
   "source": [
    "#Difference\n",
    "print(A-B)\n",
    "print(A.difference(B))"
   ]
  },
  {
   "cell_type": "code",
   "execution_count": 48,
   "id": "265a84c8",
   "metadata": {},
   "outputs": [
    {
     "name": "stdout",
     "output_type": "stream",
     "text": [
      "1 3 5 7 9 "
     ]
    }
   ],
   "source": [
    "for a in range(1,10,2):\n",
    "    print(a, end = \" \")"
   ]
  },
  {
   "cell_type": "code",
   "execution_count": 47,
   "id": "d9fb5001",
   "metadata": {},
   "outputs": [
    {
     "name": "stdout",
     "output_type": "stream",
     "text": [
      "Hyd Mum Blr Del "
     ]
    }
   ],
   "source": [
    "cities = ['Hyd','Mum','Blr','Del']\n",
    "for x in cities:\n",
    "    print(x, end = \" \")"
   ]
  },
  {
   "cell_type": "code",
   "execution_count": 50,
   "id": "545b2506",
   "metadata": {},
   "outputs": [
    {
     "name": "stdout",
     "output_type": "stream",
     "text": [
      "Alice 25 1\n",
      "Bob 30 2\n",
      "Dan 22 3\n"
     ]
    }
   ],
   "source": [
    "names = ['Alice','Bob','Dan']\n",
    "age = [25,30,22]\n",
    "identification_no = [1,2,3]\n",
    "\n",
    "for x,y,z in zip(names,age,identification_no):\n",
    "    print(x,y,z)"
   ]
  },
  {
   "cell_type": "code",
   "execution_count": 52,
   "id": "9263dcdf",
   "metadata": {},
   "outputs": [
    {
     "name": "stdout",
     "output_type": "stream",
     "text": [
      "21\n",
      "60\n"
     ]
    }
   ],
   "source": [
    "# iterate through the list and print only those numbers which are divisible by 5\n",
    "list1 = [10,20,25,21,34,55,60]\n",
    "for x in list1:\n",
    "    if x%3==0:\n",
    "        print(x)"
   ]
  },
  {
   "cell_type": "code",
   "execution_count": 53,
   "id": "0c65fb54",
   "metadata": {},
   "outputs": [
    {
     "name": "stdout",
     "output_type": "stream",
     "text": [
      "Please enter the number: 10\n",
      "10\n",
      "20\n",
      "30\n",
      "40\n",
      "50\n",
      "60\n",
      "70\n",
      "80\n",
      "90\n",
      "100\n"
     ]
    }
   ],
   "source": [
    "# accept a number from the user as input and print it's table for the range (1,11)\n",
    "a =  int(input(\"Please enter the number: \"))\n",
    "for x in range(1,11):\n",
    "    product = x*a\n",
    "    print(product)"
   ]
  },
  {
   "cell_type": "code",
   "execution_count": 55,
   "id": "9931b481",
   "metadata": {},
   "outputs": [
    {
     "name": "stdout",
     "output_type": "stream",
     "text": [
      "1\n",
      "2\n",
      "3\n",
      "4\n"
     ]
    }
   ],
   "source": [
    "# iterate through dictionaries\n",
    "students_data = {1: ['Sam',24],2:['Rob',25],3:['Jack',26],4:['Campry',24]}\n",
    "for x in students_data.keys():\n",
    "    print(x)"
   ]
  },
  {
   "cell_type": "code",
   "execution_count": 61,
   "id": "4698adb6",
   "metadata": {},
   "outputs": [
    {
     "name": "stdout",
     "output_type": "stream",
     "text": [
      "['Sam', 24]\n",
      "['Rob', 25]\n",
      "['Jack', 26]\n",
      "['Campry', 24]\n"
     ]
    }
   ],
   "source": [
    "for x in students_data.values():\n",
    "    print(x)"
   ]
  },
  {
   "cell_type": "code",
   "execution_count": 73,
   "id": "76cf81db",
   "metadata": {},
   "outputs": [
    {
     "name": "stdout",
     "output_type": "stream",
     "text": [
      "[1, 8, 27, 64, 125]\n"
     ]
    }
   ],
   "source": [
    "cube = []\n",
    "for x in range(1,6):\n",
    "    cube.append(x**3)\n",
    "print(cube)"
   ]
  },
  {
   "cell_type": "code",
   "execution_count": 67,
   "id": "788e521f",
   "metadata": {},
   "outputs": [
    {
     "name": "stdout",
     "output_type": "stream",
     "text": [
      "[1, 1024, 59049, 1048576, 9765625]\n"
     ]
    }
   ],
   "source": [
    "# list comprehension\n",
    "square_list = [x**10 for x in range(1,6)]\n",
    "print(square_list)"
   ]
  },
  {
   "cell_type": "code",
   "execution_count": 68,
   "id": "473076e9",
   "metadata": {},
   "outputs": [
    {
     "name": "stdout",
     "output_type": "stream",
     "text": [
      "[5, 6, 4, 9]\n"
     ]
    }
   ],
   "source": [
    "words  = ['apple','banana','kiwi','pineapple']\n",
    "length = [len(x) for x in words]\n",
    "print(length)"
   ]
  },
  {
   "cell_type": "code",
   "execution_count": 69,
   "id": "23200392",
   "metadata": {},
   "outputs": [
    {
     "name": "stdout",
     "output_type": "stream",
     "text": [
      "{'apple': 5, 'banana': 6, 'kiwi': 4, 'pineapple': 9}\n"
     ]
    }
   ],
   "source": [
    "length = {x:len(x) for x in words}\n",
    "print(length)"
   ]
  },
  {
   "cell_type": "code",
   "execution_count": 71,
   "id": "93224255",
   "metadata": {},
   "outputs": [
    {
     "name": "stdout",
     "output_type": "stream",
     "text": [
      "{'a': 1, 'b': 4, 'c': 9, 'd': 16}\n"
     ]
    }
   ],
   "source": [
    "#dictionary_comprehension\n",
    "original = {'a':1,'b':2,'c':3,'d':4}\n",
    "new = {x:y**2 for x,y in original.items()}\n",
    "print(new)"
   ]
  },
  {
   "cell_type": "code",
   "execution_count": 74,
   "id": "d114b490",
   "metadata": {},
   "outputs": [
    {
     "name": "stdout",
     "output_type": "stream",
     "text": [
      "T\n",
      "h\n",
      "e\n",
      " \n",
      "s\n",
      "e\n",
      "c\n",
      "o\n",
      "n\n",
      "d\n",
      " \n",
      "s\n",
      "e\n",
      "s\n",
      "s\n",
      "i\n",
      "o\n",
      "n\n",
      " \n",
      "f\n",
      "o\n",
      "r\n",
      " \n",
      "t\n",
      "o\n",
      "d\n",
      "a\n",
      "y\n",
      " \n",
      "i\n",
      "s\n",
      " \n",
      "o\n",
      "n\n",
      " \n",
      "d\n",
      "a\n",
      "t\n",
      "a\n",
      " \n",
      "s\n",
      "t\n",
      "r\n",
      "u\n",
      "c\n",
      "t\n",
      "u\n",
      "r\n",
      "e\n",
      "s\n"
     ]
    }
   ],
   "source": [
    "my_string =  'The second session for today is on data structures'\n",
    "for x in my_string:\n",
    "    print(x)"
   ]
  },
  {
   "cell_type": "code",
   "execution_count": 75,
   "id": "18d3fd0e",
   "metadata": {},
   "outputs": [
    {
     "name": "stdout",
     "output_type": "stream",
     "text": [
      " e e o e i o o o a i o a a u u e\n"
     ]
    }
   ],
   "source": [
    "vowels = ''\n",
    "for a in my_string:\n",
    "    if a in 'aeiou':\n",
    "        vowels += ' ' + a\n",
    "print(vowels)"
   ]
  },
  {
   "cell_type": "code",
   "execution_count": 82,
   "id": "8ace2e65",
   "metadata": {},
   "outputs": [
    {
     "name": "stdout",
     "output_type": "stream",
     "text": [
      "Please enter your text: Solving for vowel problem to get the count\n",
      "12\n"
     ]
    }
   ],
   "source": [
    "my_string = str(input(\"Please enter your text: \"))\n",
    "vowels = 'aeiouAIEOU'\n",
    "vowels_count = 0\n",
    "for a in my_string:\n",
    "    if a in vowels:\n",
    "        vowels_count += 1\n",
    "print(vowels_count)"
   ]
  },
  {
   "cell_type": "code",
   "execution_count": 83,
   "id": "b5e25142",
   "metadata": {},
   "outputs": [
    {
     "name": "stdout",
     "output_type": "stream",
     "text": [
      "[45.0, 63.0, 108.0, 270.0, 405.0]\n"
     ]
    }
   ],
   "source": [
    "# given a list of product prices, we need to come up with a new list of discounted prices by 10%\n",
    "prices = [50,70,120,300,450]\n",
    "#new = [45,63,108,270,405]\n",
    "new = [x*0.9 for x in prices]\n",
    "print(new)"
   ]
  },
  {
   "cell_type": "code",
   "execution_count": 86,
   "id": "4d45c20b",
   "metadata": {},
   "outputs": [
    {
     "name": "stdout",
     "output_type": "stream",
     "text": [
      "[25.0, 50.0, 32.5, 40.0, 41.66666666666667]\n"
     ]
    }
   ],
   "source": [
    "# % of profit from sales\n",
    "sales = [200,300,400,500,600]\n",
    "profit = [50,150,130,200,250]\n",
    "profit_per = []\n",
    "\n",
    "for i,j in zip(sales,profit):\n",
    "    profit_per.append((j/i)*100)\n",
    "print(profit_per)"
   ]
  },
  {
   "cell_type": "code",
   "execution_count": 89,
   "id": "b14b841f",
   "metadata": {},
   "outputs": [
    {
     "name": "stdout",
     "output_type": "stream",
     "text": [
      "Enter the num: 35\n",
      "35 is divisible by 5 and 7\n"
     ]
    }
   ],
   "source": [
    "# program to check whether the given number is multiple of both 5 and 7\n",
    "num =  int(input(\"Enter the num: \"))\n",
    "if ((num%5==0) and(num%7==0)):\n",
    "     print(num, 'is divisible by 5 and 7')\n",
    "else:\n",
    "    print(num, 'is not divisible by 5 and 7')"
   ]
  },
  {
   "cell_type": "code",
   "execution_count": null,
   "id": "4c73632a",
   "metadata": {},
   "outputs": [],
   "source": [
    "# Homework to write a program and find all even and odd numbers from the sequence given\n",
    "# hint:- if-else, for loops, num%2 ==0\n",
    "num = '8388482378903456'"
   ]
  },
  {
   "cell_type": "code",
   "execution_count": 90,
   "id": "7625f981",
   "metadata": {},
   "outputs": [
    {
     "name": "stdout",
     "output_type": "stream",
     "text": [
      "1\n",
      "2\n",
      "3\n",
      "4\n",
      "5\n",
      "6\n",
      "7\n",
      "8\n",
      "9\n"
     ]
    }
   ],
   "source": [
    "nested_list =  [[1,2,3],[4,5,6],[7,8,9]]\n",
    "for x in nested_list:\n",
    "     for y in x:\n",
    "            print(y)"
   ]
  }
 ],
 "metadata": {
  "kernelspec": {
   "display_name": "Python 3 (ipykernel)",
   "language": "python",
   "name": "python3"
  },
  "language_info": {
   "codemirror_mode": {
    "name": "ipython",
    "version": 3
   },
   "file_extension": ".py",
   "mimetype": "text/x-python",
   "name": "python",
   "nbconvert_exporter": "python",
   "pygments_lexer": "ipython3",
   "version": "3.10.9"
  }
 },
 "nbformat": 4,
 "nbformat_minor": 5
}
